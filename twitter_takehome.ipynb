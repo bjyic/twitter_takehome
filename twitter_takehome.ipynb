{
 "cells": [
  {
   "cell_type": "code",
   "execution_count": 21,
   "metadata": {},
   "outputs": [],
   "source": [
    "#Importing the libraries \n",
    "%matplotlib inline\n",
    "import pandas as pd\n",
    "import matplotlib.pyplot as plt\n",
    "import seaborn as sns\n",
    "import numpy as np\n",
    "import datetime\n",
    "import time\n",
    "from ipywidgets import widgets\n",
    "from IPython.display import display"
   ]
  },
  {
   "cell_type": "code",
   "execution_count": 22,
   "metadata": {},
   "outputs": [],
   "source": [
    "data = pd.read_csv('twitter_data.csv')\n",
    "data['datetime'] = pd.to_datetime(data['datetime'],format='%Y-%m-%d %H:%M:%S')\n",
    "camp1 = data[data['campaign_id']==1]\n",
    "camp2 = data[data['campaign_id']==2]"
   ]
  },
  {
   "cell_type": "code",
   "execution_count": 23,
   "metadata": {},
   "outputs": [
    {
     "data": {
      "text/html": [
       "<div>\n",
       "<style>\n",
       "    .dataframe thead tr:only-child th {\n",
       "        text-align: right;\n",
       "    }\n",
       "\n",
       "    .dataframe thead th {\n",
       "        text-align: left;\n",
       "    }\n",
       "\n",
       "    .dataframe tbody tr th {\n",
       "        vertical-align: top;\n",
       "    }\n",
       "</style>\n",
       "<table border=\"1\" class=\"dataframe\">\n",
       "  <thead>\n",
       "    <tr style=\"text-align: right;\">\n",
       "      <th></th>\n",
       "      <th>datetime</th>\n",
       "      <th>campaign_id</th>\n",
       "      <th>campaign_spend</th>\n",
       "      <th>campaign_budget</th>\n",
       "      <th>matched_targeting</th>\n",
       "      <th>objective</th>\n",
       "      <th>charged</th>\n",
       "      <th>seen_by_user</th>\n",
       "      <th>bid</th>\n",
       "    </tr>\n",
       "  </thead>\n",
       "  <tbody>\n",
       "    <tr>\n",
       "      <th>362</th>\n",
       "      <td>2018-04-23 08:57:08.925000</td>\n",
       "      <td>1</td>\n",
       "      <td>0.000000</td>\n",
       "      <td>500.0</td>\n",
       "      <td>GEO</td>\n",
       "      <td>WEBSITE_CLICKS</td>\n",
       "      <td>0.0</td>\n",
       "      <td>False</td>\n",
       "      <td>7.5</td>\n",
       "    </tr>\n",
       "    <tr>\n",
       "      <th>371</th>\n",
       "      <td>2018-04-23 08:58:28.159720</td>\n",
       "      <td>1</td>\n",
       "      <td>0.012214</td>\n",
       "      <td>500.0</td>\n",
       "      <td>GEO</td>\n",
       "      <td>WEBSITE_CLICKS</td>\n",
       "      <td>0.0</td>\n",
       "      <td>False</td>\n",
       "      <td>7.5</td>\n",
       "    </tr>\n",
       "    <tr>\n",
       "      <th>376</th>\n",
       "      <td>2018-04-23 08:59:18.955240</td>\n",
       "      <td>1</td>\n",
       "      <td>0.012214</td>\n",
       "      <td>500.0</td>\n",
       "      <td>GEO</td>\n",
       "      <td>WEBSITE_CLICKS</td>\n",
       "      <td>0.0</td>\n",
       "      <td>False</td>\n",
       "      <td>7.5</td>\n",
       "    </tr>\n",
       "    <tr>\n",
       "      <th>377</th>\n",
       "      <td>2018-04-23 08:59:23.448840</td>\n",
       "      <td>1</td>\n",
       "      <td>0.012214</td>\n",
       "      <td>500.0</td>\n",
       "      <td>GEO</td>\n",
       "      <td>WEBSITE_CLICKS</td>\n",
       "      <td>0.0</td>\n",
       "      <td>False</td>\n",
       "      <td>7.5</td>\n",
       "    </tr>\n",
       "    <tr>\n",
       "      <th>378</th>\n",
       "      <td>2018-04-23 08:59:32.645960</td>\n",
       "      <td>1</td>\n",
       "      <td>0.000000</td>\n",
       "      <td>500.0</td>\n",
       "      <td>GEO</td>\n",
       "      <td>WEBSITE_CLICKS</td>\n",
       "      <td>0.0</td>\n",
       "      <td>False</td>\n",
       "      <td>7.5</td>\n",
       "    </tr>\n",
       "  </tbody>\n",
       "</table>\n",
       "</div>"
      ],
      "text/plain": [
       "                      datetime  campaign_id  campaign_spend  campaign_budget  \\\n",
       "362 2018-04-23 08:57:08.925000            1        0.000000            500.0   \n",
       "371 2018-04-23 08:58:28.159720            1        0.012214            500.0   \n",
       "376 2018-04-23 08:59:18.955240            1        0.012214            500.0   \n",
       "377 2018-04-23 08:59:23.448840            1        0.012214            500.0   \n",
       "378 2018-04-23 08:59:32.645960            1        0.000000            500.0   \n",
       "\n",
       "    matched_targeting       objective  charged  seen_by_user  bid  \n",
       "362               GEO  WEBSITE_CLICKS      0.0         False  7.5  \n",
       "371               GEO  WEBSITE_CLICKS      0.0         False  7.5  \n",
       "376               GEO  WEBSITE_CLICKS      0.0         False  7.5  \n",
       "377               GEO  WEBSITE_CLICKS      0.0         False  7.5  \n",
       "378               GEO  WEBSITE_CLICKS      0.0         False  7.5  "
      ]
     },
     "execution_count": 23,
     "metadata": {},
     "output_type": "execute_result"
    }
   ],
   "source": [
    "camp1.head()"
   ]
  },
  {
   "cell_type": "code",
   "execution_count": 24,
   "metadata": {},
   "outputs": [
    {
     "data": {
      "text/html": [
       "<div>\n",
       "<style>\n",
       "    .dataframe thead tr:only-child th {\n",
       "        text-align: right;\n",
       "    }\n",
       "\n",
       "    .dataframe thead th {\n",
       "        text-align: left;\n",
       "    }\n",
       "\n",
       "    .dataframe tbody tr th {\n",
       "        vertical-align: top;\n",
       "    }\n",
       "</style>\n",
       "<table border=\"1\" class=\"dataframe\">\n",
       "  <thead>\n",
       "    <tr style=\"text-align: right;\">\n",
       "      <th></th>\n",
       "      <th>datetime</th>\n",
       "      <th>campaign_id</th>\n",
       "      <th>campaign_spend</th>\n",
       "      <th>campaign_budget</th>\n",
       "      <th>matched_targeting</th>\n",
       "      <th>objective</th>\n",
       "      <th>charged</th>\n",
       "      <th>seen_by_user</th>\n",
       "      <th>bid</th>\n",
       "    </tr>\n",
       "  </thead>\n",
       "  <tbody>\n",
       "    <tr>\n",
       "      <th>14930</th>\n",
       "      <td>2018-04-23 10:52:40.949</td>\n",
       "      <td>2</td>\n",
       "      <td>85.842301</td>\n",
       "      <td>3550.0</td>\n",
       "      <td>['GEO', 'AGE_BUCKET', 'LANGUAGE', 'GENDER']</td>\n",
       "      <td>WEBSITE_CLICKS</td>\n",
       "      <td>0.0</td>\n",
       "      <td>False</td>\n",
       "      <td>1.15</td>\n",
       "    </tr>\n",
       "    <tr>\n",
       "      <th>15128</th>\n",
       "      <td>2018-04-23 10:53:29.333</td>\n",
       "      <td>2</td>\n",
       "      <td>85.842301</td>\n",
       "      <td>3550.0</td>\n",
       "      <td>['GEO', 'AGE_BUCKET', 'LANGUAGE', 'GENDER']</td>\n",
       "      <td>WEBSITE_CLICKS</td>\n",
       "      <td>0.0</td>\n",
       "      <td>False</td>\n",
       "      <td>1.15</td>\n",
       "    </tr>\n",
       "    <tr>\n",
       "      <th>15338</th>\n",
       "      <td>2018-04-23 10:54:20.200</td>\n",
       "      <td>2</td>\n",
       "      <td>85.842301</td>\n",
       "      <td>3550.0</td>\n",
       "      <td>['GEO', 'AGE_BUCKET', 'LANGUAGE', 'GENDER']</td>\n",
       "      <td>WEBSITE_CLICKS</td>\n",
       "      <td>0.0</td>\n",
       "      <td>False</td>\n",
       "      <td>1.15</td>\n",
       "    </tr>\n",
       "    <tr>\n",
       "      <th>15393</th>\n",
       "      <td>2018-04-23 10:54:34.112</td>\n",
       "      <td>2</td>\n",
       "      <td>86.992301</td>\n",
       "      <td>3550.0</td>\n",
       "      <td>['GEO', 'AGE_BUCKET', 'LANGUAGE', 'GENDER']</td>\n",
       "      <td>WEBSITE_CLICKS</td>\n",
       "      <td>0.0</td>\n",
       "      <td>True</td>\n",
       "      <td>1.15</td>\n",
       "    </tr>\n",
       "    <tr>\n",
       "      <th>15458</th>\n",
       "      <td>2018-04-23 10:54:52.198</td>\n",
       "      <td>2</td>\n",
       "      <td>86.992301</td>\n",
       "      <td>3550.0</td>\n",
       "      <td>['GEO', 'AGE_BUCKET', 'LANGUAGE', 'GENDER']</td>\n",
       "      <td>WEBSITE_CLICKS</td>\n",
       "      <td>0.0</td>\n",
       "      <td>False</td>\n",
       "      <td>1.15</td>\n",
       "    </tr>\n",
       "  </tbody>\n",
       "</table>\n",
       "</div>"
      ],
      "text/plain": [
       "                     datetime  campaign_id  campaign_spend  campaign_budget  \\\n",
       "14930 2018-04-23 10:52:40.949            2       85.842301           3550.0   \n",
       "15128 2018-04-23 10:53:29.333            2       85.842301           3550.0   \n",
       "15338 2018-04-23 10:54:20.200            2       85.842301           3550.0   \n",
       "15393 2018-04-23 10:54:34.112            2       86.992301           3550.0   \n",
       "15458 2018-04-23 10:54:52.198            2       86.992301           3550.0   \n",
       "\n",
       "                                 matched_targeting       objective  charged  \\\n",
       "14930  ['GEO', 'AGE_BUCKET', 'LANGUAGE', 'GENDER']  WEBSITE_CLICKS      0.0   \n",
       "15128  ['GEO', 'AGE_BUCKET', 'LANGUAGE', 'GENDER']  WEBSITE_CLICKS      0.0   \n",
       "15338  ['GEO', 'AGE_BUCKET', 'LANGUAGE', 'GENDER']  WEBSITE_CLICKS      0.0   \n",
       "15393  ['GEO', 'AGE_BUCKET', 'LANGUAGE', 'GENDER']  WEBSITE_CLICKS      0.0   \n",
       "15458  ['GEO', 'AGE_BUCKET', 'LANGUAGE', 'GENDER']  WEBSITE_CLICKS      0.0   \n",
       "\n",
       "       seen_by_user   bid  \n",
       "14930         False  1.15  \n",
       "15128         False  1.15  \n",
       "15338         False  1.15  \n",
       "15393          True  1.15  \n",
       "15458         False  1.15  "
      ]
     },
     "execution_count": 24,
     "metadata": {},
     "output_type": "execute_result"
    }
   ],
   "source": [
    "camp2.head()"
   ]
  },
  {
   "cell_type": "code",
   "execution_count": 25,
   "metadata": {},
   "outputs": [
    {
     "data": {
      "text/plain": [
       "<matplotlib.axes._subplots.AxesSubplot at 0x1a0d925cf8>"
      ]
     },
     "execution_count": 25,
     "metadata": {},
     "output_type": "execute_result"
    },
    {
     "data": {
      "image/png": "[encoded data removed]",
      "text/plain": [
       "<matplotlib.figure.Figure at 0x1a0d925d68>"
      ]
     },
     "metadata": {},
     "output_type": "display_data"
    }
   ],
   "source": [
    "camp1.plot(x='datetime',y='campaign_spend')"
   ]
  },
  {
   "cell_type": "code",
   "execution_count": 26,
   "metadata": {},
   "outputs": [
    {
     "data": {
      "text/plain": [
       "<matplotlib.axes._subplots.AxesSubplot at 0x1a0e9c30b8>"
      ]
     },
     "execution_count": 26,
     "metadata": {},
     "output_type": "execute_result"
    },
    {
     "data": {
      "image/png": "[encoded data removed]",
      "text/plain": [
       "<matplotlib.figure.Figure at 0x1a0d91c630>"
      ]
     },
     "metadata": {},
     "output_type": "display_data"
    }
   ],
   "source": [
    "camp2.plot(x='datetime',y='campaign_spend')"
   ]
  },
  {
   "cell_type": "code",
   "execution_count": 27,
   "metadata": {},
   "outputs": [],
   "source": [
    "camp1seen = camp1[camp1['seen_by_user']==True]\n",
    "camp2seen = camp2[camp2['seen_by_user']==True]\n",
    "camp1charged = camp1[camp1['charged']>0.0]\n",
    "camp2charged = camp2[camp2['charged']>0.0]"
   ]
  },
  {
   "cell_type": "code",
   "execution_count": 28,
   "metadata": {},
   "outputs": [
    {
     "data": {
      "text/plain": [
       "3.8461538461538463"
      ]
     },
     "execution_count": 28,
     "metadata": {},
     "output_type": "execute_result"
    }
   ],
   "source": [
    "100*len(camp1charged.index)/len(camp1seen.index)"
   ]
  },
  {
   "cell_type": "code",
   "execution_count": 29,
   "metadata": {},
   "outputs": [
    {
     "data": {
      "text/plain": [
       "0.6060606060606061"
      ]
     },
     "execution_count": 29,
     "metadata": {},
     "output_type": "execute_result"
    }
   ],
   "source": [
    "100*len(camp2charged.index)/len(camp2seen.index)"
   ]
  },
  {
   "cell_type": "code",
   "execution_count": 30,
   "metadata": {},
   "outputs": [
    {
     "data": {
      "text/plain": [
       "matched_targeting    GEO\n",
       "bid                  7.5\n",
       "Name: 362, dtype: object"
      ]
     },
     "execution_count": 30,
     "metadata": {},
     "output_type": "execute_result"
    }
   ],
   "source": [
    "camp1.iloc[0][['matched_targeting','bid']]"
   ]
  },
  {
   "cell_type": "code",
   "execution_count": 31,
   "metadata": {},
   "outputs": [
    {
     "data": {
      "text/plain": [
       "matched_targeting    ['GEO', 'AGE_BUCKET', 'LANGUAGE', 'GENDER']\n",
       "bid                                                         1.15\n",
       "Name: 14930, dtype: object"
      ]
     },
     "execution_count": 31,
     "metadata": {},
     "output_type": "execute_result"
    }
   ],
   "source": [
    "camp2.iloc[0][['matched_targeting','bid']]"
   ]
  },
  {
   "cell_type": "code",
   "execution_count": 32,
   "metadata": {},
   "outputs": [],
   "source": [
    "appinstall = data[data['objective']=='APP_INSTALLS']\n",
    "vidview    = data[data['objective']=='VIDEO_VIEWS']\n",
    "webclick   = data[data['objective']=='WEBSITE_CLICKS']"
   ]
  },
  {
   "cell_type": "code",
   "execution_count": 33,
   "metadata": {},
   "outputs": [],
   "source": [
    "appinseen = appinstall[appinstall['seen_by_user']==True]\n",
    "vidviewseen = vidview[vidview['seen_by_user']==True]\n",
    "webclickseen = webclick[webclick['seen_by_user']==True]\n",
    "appincharged = appinseen[appinseen['charged']>0.0]\n",
    "vidviewcharged = vidviewseen[vidviewseen['charged']>0.0]"
   ]
  },
  {
   "cell_type": "code",
   "execution_count": 34,
   "metadata": {},
   "outputs": [
    {
     "data": {
      "text/plain": [
       "0.7371007371007371"
      ]
     },
     "execution_count": 34,
     "metadata": {},
     "output_type": "execute_result"
    }
   ],
   "source": [
    "100*len(appincharged.index)/len(appinseen.index)"
   ]
  },
  {
   "cell_type": "code",
   "execution_count": 35,
   "metadata": {},
   "outputs": [
    {
     "data": {
      "text/plain": [
       "32.93436293436294"
      ]
     },
     "execution_count": 35,
     "metadata": {},
     "output_type": "execute_result"
    }
   ],
   "source": [
    "100*len(vidviewcharged.index)/len(vidviewseen.index)"
   ]
  },
  {
   "cell_type": "code",
   "execution_count": 36,
   "metadata": {},
   "outputs": [
    {
     "data": {
      "text/html": [
       "<div>\n",
       "<style>\n",
       "    .dataframe thead tr:only-child th {\n",
       "        text-align: right;\n",
       "    }\n",
       "\n",
       "    .dataframe thead th {\n",
       "        text-align: left;\n",
       "    }\n",
       "\n",
       "    .dataframe tbody tr th {\n",
       "        vertical-align: top;\n",
       "    }\n",
       "</style>\n",
       "<table border=\"1\" class=\"dataframe\">\n",
       "  <thead>\n",
       "    <tr style=\"text-align: right;\">\n",
       "      <th></th>\n",
       "      <th>bid</th>\n",
       "      <th>campaign_budget</th>\n",
       "    </tr>\n",
       "    <tr>\n",
       "      <th>objective</th>\n",
       "      <th></th>\n",
       "      <th></th>\n",
       "    </tr>\n",
       "  </thead>\n",
       "  <tbody>\n",
       "    <tr>\n",
       "      <th>APP_INSTALLS</th>\n",
       "      <td>1.213203</td>\n",
       "      <td>1095.790207</td>\n",
       "    </tr>\n",
       "  </tbody>\n",
       "</table>\n",
       "</div>"
      ],
      "text/plain": [
       "                   bid  campaign_budget\n",
       "objective                              \n",
       "APP_INSTALLS  1.213203      1095.790207"
      ]
     },
     "execution_count": 36,
     "metadata": {},
     "output_type": "execute_result"
    }
   ],
   "source": [
    "appinbid = appinstall[['objective','bid','campaign_budget']]\n",
    "appinbid.groupby('objective').agg('mean')"
   ]
  },
  {
   "cell_type": "code",
   "execution_count": 37,
   "metadata": {},
   "outputs": [
    {
     "data": {
      "text/html": [
       "<div>\n",
       "<style>\n",
       "    .dataframe thead tr:only-child th {\n",
       "        text-align: right;\n",
       "    }\n",
       "\n",
       "    .dataframe thead th {\n",
       "        text-align: left;\n",
       "    }\n",
       "\n",
       "    .dataframe tbody tr th {\n",
       "        vertical-align: top;\n",
       "    }\n",
       "</style>\n",
       "<table border=\"1\" class=\"dataframe\">\n",
       "  <thead>\n",
       "    <tr style=\"text-align: right;\">\n",
       "      <th></th>\n",
       "      <th>bid</th>\n",
       "      <th>campaign_budget</th>\n",
       "    </tr>\n",
       "    <tr>\n",
       "      <th>objective</th>\n",
       "      <th></th>\n",
       "      <th></th>\n",
       "    </tr>\n",
       "  </thead>\n",
       "  <tbody>\n",
       "    <tr>\n",
       "      <th>VIDEO_VIEWS</th>\n",
       "      <td>0.437544</td>\n",
       "      <td>759.117536</td>\n",
       "    </tr>\n",
       "  </tbody>\n",
       "</table>\n",
       "</div>"
      ],
      "text/plain": [
       "                  bid  campaign_budget\n",
       "objective                             \n",
       "VIDEO_VIEWS  0.437544       759.117536"
      ]
     },
     "execution_count": 37,
     "metadata": {},
     "output_type": "execute_result"
    }
   ],
   "source": [
    "vidviewbid = vidview[['objective','bid','campaign_budget']]\n",
    "vidviewbid.groupby('objective').agg('mean')"
   ]
  },
  {
   "cell_type": "code",
   "execution_count": 38,
   "metadata": {},
   "outputs": [
    {
     "data": {
      "text/plain": [
       "5.261797026502909"
      ]
     },
     "execution_count": 38,
     "metadata": {},
     "output_type": "execute_result"
    }
   ],
   "source": [
    "100*len(appinseen.index)/len(appinstall.index)"
   ]
  },
  {
   "cell_type": "code",
   "execution_count": 39,
   "metadata": {},
   "outputs": [
    {
     "data": {
      "text/plain": [
       "21.245180871134444"
      ]
     },
     "execution_count": 39,
     "metadata": {},
     "output_type": "execute_result"
    }
   ],
   "source": [
    "100*len(vidviewseen.index)/len(vidview.index)"
   ]
  },
  {
   "cell_type": "code",
   "execution_count": 40,
   "metadata": {},
   "outputs": [
    {
     "data": {
      "text/plain": [
       "12.881630250864415"
      ]
     },
     "execution_count": 40,
     "metadata": {},
     "output_type": "execute_result"
    }
   ],
   "source": [
    "100*len(webclickseen.index)/len(webclick.index)"
   ]
  },
  {
   "cell_type": "code",
   "execution_count": null,
   "metadata": {},
   "outputs": [],
   "source": []
  }
 ],
 "metadata": {
  "kernelspec": {
   "display_name": "Python 3",
   "language": "python",
   "name": "python3"
  },
  "language_info": {
   "codemirror_mode": {
    "name": "ipython",
    "version": 3
   },
   "file_extension": ".py",
   "mimetype": "text/x-python",
   "name": "python",
   "nbconvert_exporter": "python",
   "pygments_lexer": "ipython3",
   "version": "3.6.3"
  }
 },
 "nbformat": 4,
 "nbformat_minor": 2
}
