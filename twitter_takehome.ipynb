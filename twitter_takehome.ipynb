{
 "cells": [
  {
   "cell_type": "code",
   "execution_count": 154,
   "metadata": {},
   "outputs": [],
   "source": [
    "#Importing the libraries \n",
    "%matplotlib inline\n",
    "import pandas as pd\n",
    "import matplotlib.pyplot as plt\n",
    "import matplotlib.dates as mdates\n",
    "import seaborn as sns\n",
    "import numpy as np\n",
    "import datetime\n",
    "import time\n",
    "from ipywidgets import widgets\n",
    "from IPython.display import display"
   ]
  },
  {
   "cell_type": "code",
   "execution_count": 155,
   "metadata": {},
   "outputs": [],
   "source": [
    "data = pd.read_csv('../twitter_data.csv')\n",
    "data['datetime'] = pd.to_datetime(data['datetime'],format='%Y-%m-%d %H:%M:%S')\n",
    "data.shape[0] - data.dropna().shape[0]\n",
    "camp1 = data[data['campaign_id']==1]\n",
    "camp2 = data[data['campaign_id']==2]"
   ]
  },
  {
   "cell_type": "code",
   "execution_count": 156,
   "metadata": {},
   "outputs": [
    {
     "data": {
      "text/html": [
       "<div>\n",
       "<style>\n",
       "    .dataframe thead tr:only-child th {\n",
       "        text-align: right;\n",
       "    }\n",
       "\n",
       "    .dataframe thead th {\n",
       "        text-align: left;\n",
       "    }\n",
       "\n",
       "    .dataframe tbody tr th {\n",
       "        vertical-align: top;\n",
       "    }\n",
       "</style>\n",
       "<table border=\"1\" class=\"dataframe\">\n",
       "  <thead>\n",
       "    <tr style=\"text-align: right;\">\n",
       "      <th></th>\n",
       "      <th>datetime</th>\n",
       "      <th>campaign_id</th>\n",
       "      <th>campaign_spend</th>\n",
       "      <th>campaign_budget</th>\n",
       "      <th>matched_targeting</th>\n",
       "      <th>objective</th>\n",
       "      <th>charged</th>\n",
       "      <th>seen_by_user</th>\n",
       "      <th>bid</th>\n",
       "    </tr>\n",
       "  </thead>\n",
       "  <tbody>\n",
       "    <tr>\n",
       "      <th>362</th>\n",
       "      <td>2018-04-23 08:57:08.925000</td>\n",
       "      <td>1</td>\n",
       "      <td>0.000000</td>\n",
       "      <td>500.0</td>\n",
       "      <td>GEO</td>\n",
       "      <td>WEBSITE_CLICKS</td>\n",
       "      <td>0.0</td>\n",
       "      <td>False</td>\n",
       "      <td>7.5</td>\n",
       "    </tr>\n",
       "    <tr>\n",
       "      <th>371</th>\n",
       "      <td>2018-04-23 08:58:28.159720</td>\n",
       "      <td>1</td>\n",
       "      <td>0.012214</td>\n",
       "      <td>500.0</td>\n",
       "      <td>GEO</td>\n",
       "      <td>WEBSITE_CLICKS</td>\n",
       "      <td>0.0</td>\n",
       "      <td>False</td>\n",
       "      <td>7.5</td>\n",
       "    </tr>\n",
       "    <tr>\n",
       "      <th>376</th>\n",
       "      <td>2018-04-23 08:59:18.955240</td>\n",
       "      <td>1</td>\n",
       "      <td>0.012214</td>\n",
       "      <td>500.0</td>\n",
       "      <td>GEO</td>\n",
       "      <td>WEBSITE_CLICKS</td>\n",
       "      <td>0.0</td>\n",
       "      <td>False</td>\n",
       "      <td>7.5</td>\n",
       "    </tr>\n",
       "    <tr>\n",
       "      <th>377</th>\n",
       "      <td>2018-04-23 08:59:23.448840</td>\n",
       "      <td>1</td>\n",
       "      <td>0.012214</td>\n",
       "      <td>500.0</td>\n",
       "      <td>GEO</td>\n",
       "      <td>WEBSITE_CLICKS</td>\n",
       "      <td>0.0</td>\n",
       "      <td>False</td>\n",
       "      <td>7.5</td>\n",
       "    </tr>\n",
       "    <tr>\n",
       "      <th>378</th>\n",
       "      <td>2018-04-23 08:59:32.645960</td>\n",
       "      <td>1</td>\n",
       "      <td>0.000000</td>\n",
       "      <td>500.0</td>\n",
       "      <td>GEO</td>\n",
       "      <td>WEBSITE_CLICKS</td>\n",
       "      <td>0.0</td>\n",
       "      <td>False</td>\n",
       "      <td>7.5</td>\n",
       "    </tr>\n",
       "  </tbody>\n",
       "</table>\n",
       "</div>"
      ],
      "text/plain": [
       "                      datetime  campaign_id  campaign_spend  campaign_budget  \\\n",
       "362 2018-04-23 08:57:08.925000            1        0.000000            500.0   \n",
       "371 2018-04-23 08:58:28.159720            1        0.012214            500.0   \n",
       "376 2018-04-23 08:59:18.955240            1        0.012214            500.0   \n",
       "377 2018-04-23 08:59:23.448840            1        0.012214            500.0   \n",
       "378 2018-04-23 08:59:32.645960            1        0.000000            500.0   \n",
       "\n",
       "    matched_targeting       objective  charged  seen_by_user  bid  \n",
       "362               GEO  WEBSITE_CLICKS      0.0         False  7.5  \n",
       "371               GEO  WEBSITE_CLICKS      0.0         False  7.5  \n",
       "376               GEO  WEBSITE_CLICKS      0.0         False  7.5  \n",
       "377               GEO  WEBSITE_CLICKS      0.0         False  7.5  \n",
       "378               GEO  WEBSITE_CLICKS      0.0         False  7.5  "
      ]
     },
     "execution_count": 156,
     "metadata": {},
     "output_type": "execute_result"
    }
   ],
   "source": [
    "camp1.head()"
   ]
  },
  {
   "cell_type": "code",
   "execution_count": 157,
   "metadata": {},
   "outputs": [
    {
     "data": {
      "text/html": [
       "<div>\n",
       "<style>\n",
       "    .dataframe thead tr:only-child th {\n",
       "        text-align: right;\n",
       "    }\n",
       "\n",
       "    .dataframe thead th {\n",
       "        text-align: left;\n",
       "    }\n",
       "\n",
       "    .dataframe tbody tr th {\n",
       "        vertical-align: top;\n",
       "    }\n",
       "</style>\n",
       "<table border=\"1\" class=\"dataframe\">\n",
       "  <thead>\n",
       "    <tr style=\"text-align: right;\">\n",
       "      <th></th>\n",
       "      <th>datetime</th>\n",
       "      <th>campaign_id</th>\n",
       "      <th>campaign_spend</th>\n",
       "      <th>campaign_budget</th>\n",
       "      <th>matched_targeting</th>\n",
       "      <th>objective</th>\n",
       "      <th>charged</th>\n",
       "      <th>seen_by_user</th>\n",
       "      <th>bid</th>\n",
       "    </tr>\n",
       "  </thead>\n",
       "  <tbody>\n",
       "    <tr>\n",
       "      <th>14930</th>\n",
       "      <td>2018-04-23 10:52:40.949</td>\n",
       "      <td>2</td>\n",
       "      <td>85.842301</td>\n",
       "      <td>3550.0</td>\n",
       "      <td>['GEO', 'AGE_BUCKET', 'LANGUAGE', 'GENDER']</td>\n",
       "      <td>WEBSITE_CLICKS</td>\n",
       "      <td>0.0</td>\n",
       "      <td>False</td>\n",
       "      <td>1.15</td>\n",
       "    </tr>\n",
       "    <tr>\n",
       "      <th>15128</th>\n",
       "      <td>2018-04-23 10:53:29.333</td>\n",
       "      <td>2</td>\n",
       "      <td>85.842301</td>\n",
       "      <td>3550.0</td>\n",
       "      <td>['GEO', 'AGE_BUCKET', 'LANGUAGE', 'GENDER']</td>\n",
       "      <td>WEBSITE_CLICKS</td>\n",
       "      <td>0.0</td>\n",
       "      <td>False</td>\n",
       "      <td>1.15</td>\n",
       "    </tr>\n",
       "    <tr>\n",
       "      <th>15338</th>\n",
       "      <td>2018-04-23 10:54:20.200</td>\n",
       "      <td>2</td>\n",
       "      <td>85.842301</td>\n",
       "      <td>3550.0</td>\n",
       "      <td>['GEO', 'AGE_BUCKET', 'LANGUAGE', 'GENDER']</td>\n",
       "      <td>WEBSITE_CLICKS</td>\n",
       "      <td>0.0</td>\n",
       "      <td>False</td>\n",
       "      <td>1.15</td>\n",
       "    </tr>\n",
       "    <tr>\n",
       "      <th>15393</th>\n",
       "      <td>2018-04-23 10:54:34.112</td>\n",
       "      <td>2</td>\n",
       "      <td>86.992301</td>\n",
       "      <td>3550.0</td>\n",
       "      <td>['GEO', 'AGE_BUCKET', 'LANGUAGE', 'GENDER']</td>\n",
       "      <td>WEBSITE_CLICKS</td>\n",
       "      <td>0.0</td>\n",
       "      <td>True</td>\n",
       "      <td>1.15</td>\n",
       "    </tr>\n",
       "    <tr>\n",
       "      <th>15458</th>\n",
       "      <td>2018-04-23 10:54:52.198</td>\n",
       "      <td>2</td>\n",
       "      <td>86.992301</td>\n",
       "      <td>3550.0</td>\n",
       "      <td>['GEO', 'AGE_BUCKET', 'LANGUAGE', 'GENDER']</td>\n",
       "      <td>WEBSITE_CLICKS</td>\n",
       "      <td>0.0</td>\n",
       "      <td>False</td>\n",
       "      <td>1.15</td>\n",
       "    </tr>\n",
       "  </tbody>\n",
       "</table>\n",
       "</div>"
      ],
      "text/plain": [
       "                     datetime  campaign_id  campaign_spend  campaign_budget  \\\n",
       "14930 2018-04-23 10:52:40.949            2       85.842301           3550.0   \n",
       "15128 2018-04-23 10:53:29.333            2       85.842301           3550.0   \n",
       "15338 2018-04-23 10:54:20.200            2       85.842301           3550.0   \n",
       "15393 2018-04-23 10:54:34.112            2       86.992301           3550.0   \n",
       "15458 2018-04-23 10:54:52.198            2       86.992301           3550.0   \n",
       "\n",
       "                                 matched_targeting       objective  charged  \\\n",
       "14930  ['GEO', 'AGE_BUCKET', 'LANGUAGE', 'GENDER']  WEBSITE_CLICKS      0.0   \n",
       "15128  ['GEO', 'AGE_BUCKET', 'LANGUAGE', 'GENDER']  WEBSITE_CLICKS      0.0   \n",
       "15338  ['GEO', 'AGE_BUCKET', 'LANGUAGE', 'GENDER']  WEBSITE_CLICKS      0.0   \n",
       "15393  ['GEO', 'AGE_BUCKET', 'LANGUAGE', 'GENDER']  WEBSITE_CLICKS      0.0   \n",
       "15458  ['GEO', 'AGE_BUCKET', 'LANGUAGE', 'GENDER']  WEBSITE_CLICKS      0.0   \n",
       "\n",
       "       seen_by_user   bid  \n",
       "14930         False  1.15  \n",
       "15128         False  1.15  \n",
       "15338         False  1.15  \n",
       "15393          True  1.15  \n",
       "15458         False  1.15  "
      ]
     },
     "execution_count": 157,
     "metadata": {},
     "output_type": "execute_result"
    }
   ],
   "source": [
    "camp2.head()"
   ]
  },
  {
   "cell_type": "code",
   "execution_count": 158,
   "metadata": {},
   "outputs": [
    {
     "data": {
      "text/plain": [
       "Text(0.5,1,'Campaign 1 Pacing')"
      ]
     },
     "execution_count": 158,
     "metadata": {},
     "output_type": "execute_result"
    },
    {
     "data": {
      "image/png": "[encoded data removed]",
      "text/plain": [
       "<matplotlib.figure.Figure at 0x1a21d30518>"
      ]
     },
     "metadata": {},
     "output_type": "display_data"
    }
   ],
   "source": [
    "sns.set_style(\"darkgrid\")\n",
    "ax = camp1.plot(x='datetime',y='campaign_spend',figsize=(8,6))\n",
    "myFmt = mdates.DateFormatter('%H:%M | %d%b')\n",
    "ax.xaxis.set_major_formatter(myFmt)\n",
    "ax.set_xlabel(\"Time of day\")\n",
    "ax.set_ylabel(\"Campaign spend\")\n",
    "ax.legend_.remove()\n",
    "ax.xaxis.labelpad = 10\n",
    "ax.yaxis.labelpad = 10\n",
    "ax.set_title('Campaign 1 Pacing',fontsize=13)"
   ]
  },
  {
   "cell_type": "code",
   "execution_count": 159,
   "metadata": {},
   "outputs": [
    {
     "data": {
      "text/plain": [
       "Text(0.5,1,'Campaign 2 Pacing')"
      ]
     },
     "execution_count": 159,
     "metadata": {},
     "output_type": "execute_result"
    },
    {
     "data": {
      "image/png": "[encoded data removed]",
      "text/plain": [
       "<matplotlib.figure.Figure at 0x1a20ba7c50>"
      ]
     },
     "metadata": {},
     "output_type": "display_data"
    }
   ],
   "source": [
    "sns.set_style(\"darkgrid\")\n",
    "ax = camp2.plot(x='datetime',y='campaign_spend',figsize=(8,6))\n",
    "myFmt = mdates.DateFormatter('%H:%M | %d%b')\n",
    "ax.xaxis.set_major_formatter(myFmt)\n",
    "ax.set_xlabel(\"Time of day\")\n",
    "ax.set_ylabel(\"Campaign spend\")\n",
    "ax.legend_.remove()\n",
    "ax.xaxis.labelpad = 10\n",
    "ax.yaxis.labelpad = 10\n",
    "ax.set_title('Campaign 2 Pacing',fontsize=13)"
   ]
  },
  {
   "cell_type": "code",
   "execution_count": 160,
   "metadata": {},
   "outputs": [],
   "source": [
    "camp1seen = camp1[camp1['seen_by_user']==True]\n",
    "camp2seen = camp2[camp2['seen_by_user']==True]\n",
    "camp1charged = camp1[camp1['charged']>0.0]\n",
    "camp2charged = camp2[camp2['charged']>0.0]"
   ]
  },
  {
   "cell_type": "code",
   "execution_count": 161,
   "metadata": {},
   "outputs": [
    {
     "name": "stdout",
     "output_type": "stream",
     "text": [
      "Engagement rate campaign 1 : 3.8461538461538463%\n"
     ]
    }
   ],
   "source": [
    "print('Engagement rate campaign 1 : '+str(100*len(camp1charged.index)/len(camp1seen.index))+'%')"
   ]
  },
  {
   "cell_type": "code",
   "execution_count": 162,
   "metadata": {},
   "outputs": [
    {
     "name": "stdout",
     "output_type": "stream",
     "text": [
      "Engagement rate campaign 2 : 0.6060606060606061%\n"
     ]
    }
   ],
   "source": [
    "print('Engagement rate campaign 2 : '+str(100*len(camp2charged.index)/len(camp2seen.index))+'%')"
   ]
  },
  {
   "cell_type": "code",
   "execution_count": 163,
   "metadata": {},
   "outputs": [
    {
     "name": "stdout",
     "output_type": "stream",
     "text": [
      "Campaign 1\n",
      "targeting : GEO\n",
      "bid : 7.5\n"
     ]
    }
   ],
   "source": [
    "camp1.iloc[0][['matched_targeting','bid']]\n",
    "print('Campaign 1')\n",
    "print('targeting : '+str(camp1.iloc[0]['matched_targeting']))\n",
    "print('bid : '+str(camp1.iloc[0]['bid']))"
   ]
  },
  {
   "cell_type": "code",
   "execution_count": 164,
   "metadata": {},
   "outputs": [
    {
     "name": "stdout",
     "output_type": "stream",
     "text": [
      "Campaign 2\n",
      "targeting : ['GEO', 'AGE_BUCKET', 'LANGUAGE', 'GENDER']\n",
      "bid : 1.15\n"
     ]
    }
   ],
   "source": [
    "camp2.iloc[0][['matched_targeting','bid']]\n",
    "print('Campaign 2')\n",
    "print('targeting : '+str(camp2.iloc[0]['matched_targeting']))\n",
    "print('bid : '+str(camp2.iloc[0]['bid']))"
   ]
  },
  {
   "cell_type": "code",
   "execution_count": 165,
   "metadata": {},
   "outputs": [
    {
     "name": "stdout",
     "output_type": "stream",
     "text": [
      "Campaigns and Objectives\n",
      "App Install :[4 3]\n",
      "Video Views :[7 6 5]\n",
      "Website Clicks :[1 2]\n"
     ]
    }
   ],
   "source": [
    "appinstall = data[data['objective']=='APP_INSTALLS']\n",
    "vidview    = data[data['objective']=='VIDEO_VIEWS']\n",
    "webclick   = data[data['objective']=='WEBSITE_CLICKS']\n",
    "print('Campaigns and Objectives')\n",
    "print('App Install :'+str(appinstall['campaign_id'].unique()))\n",
    "print('Video Views :'+str(vidview['campaign_id'].unique()))\n",
    "print('Website Clicks :'+str(webclick['campaign_id'].unique()))"
   ]
  },
  {
   "cell_type": "code",
   "execution_count": 166,
   "metadata": {},
   "outputs": [],
   "source": [
    "ob1 = appinstall[['campaign_id','bid','campaign_budget']].groupby('campaign_id').agg('mean')\n",
    "ob1.set_value(3,'engagement',100*len(appinstall[(appinstall['charged']>0.0) & (appinstall['campaign_id']==3)].index)/len(appinstall[(appinstall['seen_by_user']==True) & (appinstall['campaign_id']==3)].index))\n",
    "ob1.set_value(4,'engagement',100*len(appinstall[(appinstall['charged']>0.0) & (appinstall['campaign_id']==4)].index)/len(appinstall[(appinstall['seen_by_user']==True) & (appinstall['campaign_id']==4)].index))\n",
    "ob1['objective'] = 'App Install'"
   ]
  },
  {
   "cell_type": "code",
   "execution_count": 167,
   "metadata": {},
   "outputs": [],
   "source": [
    "ob2 = vidview[['campaign_id','bid','campaign_budget']].groupby('campaign_id').agg('mean')\n",
    "ob2.set_value(5,'engagement',100*len(vidview[(vidview['charged']>0.0) & (vidview['campaign_id']==5)].index)/len(vidview[(vidview['seen_by_user']==True) & (vidview['campaign_id']==5)].index))\n",
    "ob2.set_value(6,'engagement',100*len(vidview[(vidview['charged']>0.0) & (vidview['campaign_id']==6)].index)/len(vidview[(vidview['seen_by_user']==True) & (vidview['campaign_id']==6)].index))\n",
    "ob2.set_value(7,'engagement',100*len(vidview[(vidview['charged']>0.0) & (vidview['campaign_id']==7)].index)/len(vidview[(vidview['seen_by_user']==True) & (vidview['campaign_id']==7)].index))\n",
    "ob2['objective'] = 'Video View'"
   ]
  },
  {
   "cell_type": "code",
   "execution_count": 168,
   "metadata": {},
   "outputs": [],
   "source": [
    "ob3 = webclick[['objective','campaign_id','bid','campaign_budget']].groupby('campaign_id').agg('mean')\n",
    "ob3.set_value(1,'engagement',100*len(webclick[(webclick['charged']>0.0) & (webclick['campaign_id']==1)].index)/len(webclick[(webclick['seen_by_user']==True) & (webclick['campaign_id']==1)].index))\n",
    "ob3.set_value(2,'engagement',100*len(webclick[(webclick['charged']>0.0) & (webclick['campaign_id']==2)].index)/len(webclick[(webclick['seen_by_user']==True) & (webclick['campaign_id']==2)].index))\n",
    "ob3['objective'] = 'Website Click'"
   ]
  },
  {
   "cell_type": "code",
   "execution_count": 169,
   "metadata": {},
   "outputs": [],
   "source": [
    "frames = [ob1,ob2,ob3]\n",
    "res = pd.concat(frames)\n",
    "res.reset_index(inplace=True)"
   ]
  },
  {
   "cell_type": "code",
   "execution_count": 170,
   "metadata": {},
   "outputs": [
    {
     "data": {
      "text/plain": [
       "Text(0,0.5,'Bid')"
      ]
     },
     "execution_count": 170,
     "metadata": {},
     "output_type": "execute_result"
    },
    {
     "data": {
      "image/png": "[encoded data removed]",
      "text/plain": [
       "<matplotlib.figure.Figure at 0x1a20ba7860>"
      ]
     },
     "metadata": {},
     "output_type": "display_data"
    }
   ],
   "source": [
    "plt.figure(figsize=(8, 6))\n",
    "ax = sns.barplot(x='objective', y='bid', data=res)\n",
    "ax.xaxis.labelpad = 10\n",
    "ax.yaxis.labelpad = 10\n",
    "ax.set_xlabel('Objective',fontsize=13)\n",
    "ax.set_ylabel('Bid',fontsize=13)"
   ]
  },
  {
   "cell_type": "code",
   "execution_count": 171,
   "metadata": {},
   "outputs": [
    {
     "data": {
      "text/plain": [
       "Text(0,0.5,'Engagement (%)')"
      ]
     },
     "execution_count": 171,
     "metadata": {},
     "output_type": "execute_result"
    },
    {
     "data": {
      "image/png": "[encoded data removed]",
      "text/plain": [
       "<matplotlib.figure.Figure at 0x1a20c73588>"
      ]
     },
     "metadata": {},
     "output_type": "display_data"
    }
   ],
   "source": [
    "plt.figure(figsize=(8, 6))\n",
    "ax = sns.barplot(x='objective', y='engagement', data=res)\n",
    "ax.xaxis.labelpad = 10\n",
    "ax.yaxis.labelpad = 10\n",
    "ax.set_xlabel('Objective',fontsize=13)\n",
    "ax.set_ylabel('Engagement (%)',fontsize=13)"
   ]
  },
  {
   "cell_type": "code",
   "execution_count": 172,
   "metadata": {},
   "outputs": [
    {
     "data": {
      "text/plain": [
       "Text(0,0.5,'Campaign Budget')"
      ]
     },
     "execution_count": 172,
     "metadata": {},
     "output_type": "execute_result"
    },
    {
     "data": {
      "image/png": "[encoded data removed]",
      "text/plain": [
       "<matplotlib.figure.Figure at 0x1a246e9828>"
      ]
     },
     "metadata": {},
     "output_type": "display_data"
    }
   ],
   "source": [
    "plt.figure(figsize=(8, 6))\n",
    "ax = sns.barplot(x='objective', y='campaign_budget', data=res)\n",
    "ax.xaxis.labelpad = 10\n",
    "ax.yaxis.labelpad = 10\n",
    "ax.set_xlabel('Objective',fontsize=13)\n",
    "ax.set_ylabel('Campaign Budget',fontsize=13)"
   ]
  },
  {
   "cell_type": "code",
   "execution_count": 14,
   "metadata": {},
   "outputs": [],
   "source": [
    "appinseen = appinstall[appinstall['seen_by_user']==True]\n",
    "vidviewseen = vidview[vidview['seen_by_user']==True]\n",
    "webclickseen = webclick[webclick['seen_by_user']==True]\n",
    "appincharged = appinseen[appinseen['charged']>0.0]\n",
    "vidviewcharged = vidviewseen[vidviewseen['charged']>0.0]"
   ]
  },
  {
   "cell_type": "code",
   "execution_count": 15,
   "metadata": {},
   "outputs": [
    {
     "data": {
      "text/plain": [
       "0.7371007371007371"
      ]
     },
     "execution_count": 15,
     "metadata": {},
     "output_type": "execute_result"
    }
   ],
   "source": [
    "100*len(appincharged.index)/len(appinseen.index)"
   ]
  },
  {
   "cell_type": "code",
   "execution_count": 16,
   "metadata": {},
   "outputs": [
    {
     "data": {
      "text/plain": [
       "32.93436293436294"
      ]
     },
     "execution_count": 16,
     "metadata": {},
     "output_type": "execute_result"
    }
   ],
   "source": [
    "100*len(vidviewcharged.index)/len(vidviewseen.index)"
   ]
  },
  {
   "cell_type": "code",
   "execution_count": 17,
   "metadata": {},
   "outputs": [
    {
     "data": {
      "text/html": [
       "<div>\n",
       "<style>\n",
       "    .dataframe thead tr:only-child th {\n",
       "        text-align: right;\n",
       "    }\n",
       "\n",
       "    .dataframe thead th {\n",
       "        text-align: left;\n",
       "    }\n",
       "\n",
       "    .dataframe tbody tr th {\n",
       "        vertical-align: top;\n",
       "    }\n",
       "</style>\n",
       "<table border=\"1\" class=\"dataframe\">\n",
       "  <thead>\n",
       "    <tr style=\"text-align: right;\">\n",
       "      <th></th>\n",
       "      <th>bid</th>\n",
       "      <th>campaign_budget</th>\n",
       "    </tr>\n",
       "    <tr>\n",
       "      <th>objective</th>\n",
       "      <th></th>\n",
       "      <th></th>\n",
       "    </tr>\n",
       "  </thead>\n",
       "  <tbody>\n",
       "    <tr>\n",
       "      <th>APP_INSTALLS</th>\n",
       "      <td>1.213203</td>\n",
       "      <td>1095.790207</td>\n",
       "    </tr>\n",
       "  </tbody>\n",
       "</table>\n",
       "</div>"
      ],
      "text/plain": [
       "                   bid  campaign_budget\n",
       "objective                              \n",
       "APP_INSTALLS  1.213203      1095.790207"
      ]
     },
     "execution_count": 17,
     "metadata": {},
     "output_type": "execute_result"
    }
   ],
   "source": [
    "appinbid = appinstall[['objective','bid','campaign_budget']]\n",
    "appinbid.groupby('objective').agg('mean')"
   ]
  },
  {
   "cell_type": "code",
   "execution_count": 18,
   "metadata": {},
   "outputs": [
    {
     "data": {
      "text/html": [
       "<div>\n",
       "<style>\n",
       "    .dataframe thead tr:only-child th {\n",
       "        text-align: right;\n",
       "    }\n",
       "\n",
       "    .dataframe thead th {\n",
       "        text-align: left;\n",
       "    }\n",
       "\n",
       "    .dataframe tbody tr th {\n",
       "        vertical-align: top;\n",
       "    }\n",
       "</style>\n",
       "<table border=\"1\" class=\"dataframe\">\n",
       "  <thead>\n",
       "    <tr style=\"text-align: right;\">\n",
       "      <th></th>\n",
       "      <th>bid</th>\n",
       "      <th>campaign_budget</th>\n",
       "    </tr>\n",
       "    <tr>\n",
       "      <th>objective</th>\n",
       "      <th></th>\n",
       "      <th></th>\n",
       "    </tr>\n",
       "  </thead>\n",
       "  <tbody>\n",
       "    <tr>\n",
       "      <th>VIDEO_VIEWS</th>\n",
       "      <td>0.437544</td>\n",
       "      <td>759.117536</td>\n",
       "    </tr>\n",
       "  </tbody>\n",
       "</table>\n",
       "</div>"
      ],
      "text/plain": [
       "                  bid  campaign_budget\n",
       "objective                             \n",
       "VIDEO_VIEWS  0.437544       759.117536"
      ]
     },
     "execution_count": 18,
     "metadata": {},
     "output_type": "execute_result"
    }
   ],
   "source": [
    "vidviewbid = vidview[['objective','bid','campaign_budget']]\n",
    "vidviewbid.groupby('objective').agg('mean')"
   ]
  },
  {
   "cell_type": "code",
   "execution_count": 19,
   "metadata": {},
   "outputs": [
    {
     "data": {
      "text/plain": [
       "5.261797026502909"
      ]
     },
     "execution_count": 19,
     "metadata": {},
     "output_type": "execute_result"
    }
   ],
   "source": [
    "100*len(appinseen.index)/len(appinstall.index)"
   ]
  },
  {
   "cell_type": "code",
   "execution_count": 20,
   "metadata": {},
   "outputs": [
    {
     "data": {
      "text/plain": [
       "21.245180871134444"
      ]
     },
     "execution_count": 20,
     "metadata": {},
     "output_type": "execute_result"
    }
   ],
   "source": [
    "100*len(vidviewseen.index)/len(vidview.index)"
   ]
  },
  {
   "cell_type": "code",
   "execution_count": 21,
   "metadata": {},
   "outputs": [
    {
     "data": {
      "text/plain": [
       "12.881630250864415"
      ]
     },
     "execution_count": 21,
     "metadata": {},
     "output_type": "execute_result"
    }
   ],
   "source": [
    "100*len(webclickseen.index)/len(webclick.index)"
   ]
  },
  {
   "cell_type": "code",
   "execution_count": null,
   "metadata": {},
   "outputs": [],
   "source": []
  }
 ],
 "metadata": {
  "kernelspec": {
   "display_name": "Python 3",
   "language": "python",
   "name": "python3"
  },
  "language_info": {
   "codemirror_mode": {
    "name": "ipython",
    "version": 3
   },
   "file_extension": ".py",
   "mimetype": "text/x-python",
   "name": "python",
   "nbconvert_exporter": "python",
   "pygments_lexer": "ipython3",
   "version": "3.6.3"
  }
 },
 "nbformat": 4,
 "nbformat_minor": 2
}
